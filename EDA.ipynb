{
 "cells": [
  {
   "cell_type": "code",
   "execution_count": 11,
   "id": "b1e17e11",
   "metadata": {},
   "outputs": [],
   "source": [
    "import numpy as np\n",
    "import pandas as pd\n",
    "from sklearn.model_selection import train_test_split\n",
    "from time import time\n",
    "from tqdm import tqdm\n",
    "import matplotlib.pyplot as plt\n",
    "from pyarrow import csv\n"
   ]
  },
  {
   "cell_type": "code",
   "execution_count": 13,
   "id": "24594c55",
   "metadata": {},
   "outputs": [],
   "source": [
    "# data read. use pyarrow\n",
    "\n",
    "train = csv.read_csv('../input/ventilator-pressure-prediction/train.csv').to_pandas()\n",
    "test = csv.read_csv('../input/ventilator-pressure-prediction/test.csv').to_pandas()"
   ]
  },
  {
   "cell_type": "markdown",
   "id": "eb47427f",
   "metadata": {},
   "source": [
    "### Columns\n",
    "1. id : index\n",
    "2. breath_id : breath index. 같은 row들은 한번의 호흡임\n",
    "3. R : 기도가 얼마나 막혀있는지 나타내는 변수. R이 높을수록 vent가 어려움? 추가조사필요. unique : 5, 20, 50\n",
    "4. C : 폐가 얼마나 순응적인지 나타내는 변수. C가 높을수록 vent가 쉬움? unizue : 10, 20, 50\n",
    "5. time_step : timestep\n",
    "6. u_in : 흡기 솔레노이드 밸브 제어 입력. 0~100까지의 수치를 가짐. 높을수록 많이 주입하는듯\n",
    "7. u_out : 호기 솔레노이드 밸브 제어 입력. 0 or 1의 수치를 가짐\n",
    "8. pressure(y) : 기도에서 측정된 압력"
   ]
  },
  {
   "cell_type": "code",
   "execution_count": 16,
   "id": "b3e54c52",
   "metadata": {},
   "outputs": [
    {
     "name": "stdout",
     "output_type": "stream",
     "text": [
      "<class 'pandas.core.frame.DataFrame'>\n",
      "RangeIndex: 6036000 entries, 0 to 6035999\n",
      "Data columns (total 8 columns):\n",
      " #   Column     Dtype  \n",
      "---  ------     -----  \n",
      " 0   id         int64  \n",
      " 1   breath_id  int64  \n",
      " 2   R          int64  \n",
      " 3   C          int64  \n",
      " 4   time_step  float64\n",
      " 5   u_in       float64\n",
      " 6   u_out      int64  \n",
      " 7   pressure   float64\n",
      "dtypes: float64(3), int64(5)\n",
      "memory usage: 368.4 MB\n"
     ]
    }
   ],
   "source": [
    "train.info()  # no missing data"
   ]
  },
  {
   "cell_type": "code",
   "execution_count": 23,
   "id": "009df4c9",
   "metadata": {},
   "outputs": [
    {
     "name": "stdout",
     "output_type": "stream",
     "text": [
      "[     1      2      3 ... 125743 125745 125749]\n",
      "75450\n"
     ]
    }
   ],
   "source": [
    "print(train[\"breath_id\"].unique())\n",
    "print(len(train[\"breath_id\"].unique()))\n",
    "# 전체 호흡은 125749까지 있지만 총 호흡 수는 75450. 중간중간 공백이 있음"
   ]
  },
  {
   "cell_type": "code",
   "execution_count": 22,
   "id": "914adf81",
   "metadata": {},
   "outputs": [
    {
     "name": "stdout",
     "output_type": "stream",
     "text": [
      "[50 20 10]\n",
      "[20 50  5]\n"
     ]
    }
   ],
   "source": [
    "print(train[\"C\"].unique())\n",
    "print(train[\"R\"].unique())"
   ]
  },
  {
   "cell_type": "code",
   "execution_count": null,
   "id": "09d5b673",
   "metadata": {},
   "outputs": [],
   "source": []
  }
 ],
 "metadata": {
  "kernelspec": {
   "display_name": "Python 3 (ipykernel)",
   "language": "python",
   "name": "python3"
  },
  "language_info": {
   "codemirror_mode": {
    "name": "ipython",
    "version": 3
   },
   "file_extension": ".py",
   "mimetype": "text/x-python",
   "name": "python",
   "nbconvert_exporter": "python",
   "pygments_lexer": "ipython3",
   "version": "3.7.7"
  }
 },
 "nbformat": 4,
 "nbformat_minor": 5
}
